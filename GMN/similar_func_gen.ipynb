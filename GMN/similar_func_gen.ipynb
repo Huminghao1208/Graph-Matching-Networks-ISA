{
 "cells": [
  {
   "cell_type": "code",
   "execution_count": 21,
   "id": "c17720b4",
   "metadata": {},
   "outputs": [],
   "source": [
    "import os\n",
    "import numpy as np\n",
    "import glob\n",
    "import random\n",
    "import shutil"
   ]
  },
  {
   "cell_type": "code",
   "execution_count": 22,
   "id": "6b94be8f",
   "metadata": {},
   "outputs": [],
   "source": [
    "ISA = 'x86'\n",
    "input_folder = f'dataset/graph_adj_matrix_all/{ISA}'\n",
    "output_folder = f\"dataset/similar_func_pairs/{ISA}\"\n",
    "PAIR_NUM=50000"
   ]
  },
  {
   "cell_type": "code",
   "execution_count": 23,
   "id": "7f8e10a9",
   "metadata": {},
   "outputs": [],
   "source": [
    "def func_pair_gen(input_folder, output_folder):\n",
    "    # Create output directories\n",
    "    os.makedirs(os.path.join(output_folder, 'pos'), exist_ok=True)\n",
    "    os.makedirs(os.path.join(output_folder, 'neg'), exist_ok=True)\n",
    "\n",
    "    # Get all CSV files\n",
    "    all_files = glob.glob(f'{input_folder}/*.csv')\n",
    "\n",
    "    # Group files by everything except optimization level\n",
    "    file_groups = {}\n",
    "    for file_path in all_files:\n",
    "        filename = os.path.basename(file_path)\n",
    "        parts = filename.split('@')\n",
    "        key = '@'.join(parts[:-1])  # Everything except optimization level\n",
    "        if key not in file_groups:\n",
    "            file_groups[key] = []\n",
    "        file_groups[key].append(file_path)\n",
    "\n",
    "    # Generate similar pairs\n",
    "    similar_pairs = []\n",
    "    for group in file_groups.values():\n",
    "        if len(group) > 1:\n",
    "            similar_pairs.extend([(a, b) for a in group for b in group if a != b])\n",
    "\n",
    "    # Generate unsimilar pairs\n",
    "    all_files_set = set(all_files)\n",
    "    unsimilar_pairs = []\n",
    "    while len(unsimilar_pairs) < PAIR_NUM:\n",
    "        a, b = random.sample(all_files_set, 2)\n",
    "        if a.split('@')[:-1] != b.split('@')[:-1]:\n",
    "            unsimilar_pairs.append((a, b))\n",
    "\n",
    "    # Shuffle and limit to 50000 pairs each\n",
    "    random.shuffle(similar_pairs)\n",
    "    similar_pairs = similar_pairs[:PAIR_NUM]\n",
    "    random.shuffle(unsimilar_pairs)\n",
    "    unsimilar_pairs = unsimilar_pairs[:PAIR_NUM]\n",
    "\n",
    "    # Write pairs to output folders\n",
    "    for i, (a, b) in enumerate(similar_pairs):\n",
    "        shutil.copy(a, os.path.join(output_folder, 'pos', f'{i}$a${os.path.basename(a)}'))\n",
    "        shutil.copy(b, os.path.join(output_folder, 'pos', f'{i}$b${os.path.basename(b)}'))\n",
    "\n",
    "    for i, (a, b) in enumerate(unsimilar_pairs):\n",
    "        shutil.copy(a, os.path.join(output_folder, 'neg', f'{i}$a${os.path.basename(a)}'))\n",
    "        shutil.copy(b, os.path.join(output_folder, 'neg', f'{i}$b${os.path.basename(b)}'))"
   ]
  },
  {
   "cell_type": "code",
   "execution_count": 24,
   "id": "7aa387b3",
   "metadata": {},
   "outputs": [
    {
     "name": "stderr",
     "output_type": "stream",
     "text": [
      "/tmp/ipykernel_2627622/1539748675.py:29: DeprecationWarning: Sampling from a set deprecated\n",
      "since Python 3.9 and will be removed in a subsequent version.\n",
      "  a, b = random.sample(all_files_set, 2)\n"
     ]
    }
   ],
   "source": [
    "def main():\n",
    "    func_pair_gen(input_folder, output_folder)\n",
    "if __name__ == '__main__':\n",
    "    main()                     "
   ]
  }
 ],
 "metadata": {
  "kernelspec": {
   "display_name": "Python 3 (ipykernel)",
   "language": "python",
   "name": "python3"
  },
  "language_info": {
   "codemirror_mode": {
    "name": "ipython",
    "version": 3
   },
   "file_extension": ".py",
   "mimetype": "text/x-python",
   "name": "python",
   "nbconvert_exporter": "python",
   "pygments_lexer": "ipython3",
   "version": "3.10.14"
  }
 },
 "nbformat": 4,
 "nbformat_minor": 5
}
